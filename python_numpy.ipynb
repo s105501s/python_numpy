{
 "cells": [
  {
   "cell_type": "markdown",
   "metadata": {},
   "source": [
    "Numpy"
   ]
  },
  {
   "cell_type": "markdown",
   "metadata": {},
   "source": [
    "◆mutable か immutable かは考慮するの忘れずに。\n",
    "pythonは意図的にcopyしない限り基本参照渡し.その為,数値を変更する時は,mutable か immutable かは考慮するの忘れずに.\n",
    "基本的な考え方としては，データ量が巨大になる可能性があるものはmutable，そうでなければimmutableと考えて良い．\n",
    "\n",
    "mutable: list, set, dict\n",
    "\n",
    "immutable: int, float, bool, str, tuple\n",
    "\n",
    "https://datawokagaku.com/numpy_generate/"
   ]
  },
  {
   "cell_type": "code",
   "execution_count": 1,
   "metadata": {},
   "outputs": [],
   "source": [
    "import numpy as np"
   ]
  },
  {
   "cell_type": "code",
   "execution_count": 2,
   "metadata": {},
   "outputs": [],
   "source": [
    "def array_original(array):\n",
    " \n",
    "    array[0] = 99\n",
    "    return array\n",
    " \n",
    "def array_copy(array):\n",
    "    \n",
    "    array_changed = array.copy()\n",
    "    array_changed[0] = 99\n",
    "    return array_changed"
   ]
  },
  {
   "cell_type": "code",
   "execution_count": 3,
   "metadata": {},
   "outputs": [
    {
     "name": "stdout",
     "output_type": "stream",
     "text": [
      "[1 2 3 4 5 6 7 8 9]\n",
      "[1 2 3 4 5 6 7 8 9]\n"
     ]
    }
   ],
   "source": [
    "a = np.arange(1,10)\n",
    "b = np.arange(1,10)\n",
    "\n",
    "print(a)\n",
    "print(b)"
   ]
  },
  {
   "cell_type": "code",
   "execution_count": 4,
   "metadata": {},
   "outputs": [
    {
     "name": "stdout",
     "output_type": "stream",
     "text": [
      "[99  2  3  4  5  6  7  8  9]\n",
      "[99  2  3  4  5  6  7  8  9]\n"
     ]
    }
   ],
   "source": [
    "print(array_original(a))\n",
    "print(a)\n",
    "#元のarrayが変更されてる"
   ]
  },
  {
   "cell_type": "code",
   "execution_count": 5,
   "metadata": {},
   "outputs": [
    {
     "name": "stdout",
     "output_type": "stream",
     "text": [
      "[99  2  3  4  5  6  7  8  9]\n",
      "[1 2 3 4 5 6 7 8 9]\n"
     ]
    }
   ],
   "source": [
    "print(array_copy(b))\n",
    "print(b)\n",
    "#元のarrayが変更されてない"
   ]
  },
  {
   "cell_type": "code",
   "execution_count": null,
   "metadata": {},
   "outputs": [],
   "source": []
  }
 ],
 "metadata": {
  "kernelspec": {
   "display_name": "Python 3",
   "language": "python",
   "name": "python3"
  },
  "language_info": {
   "codemirror_mode": {
    "name": "ipython",
    "version": 3
   },
   "file_extension": ".py",
   "mimetype": "text/x-python",
   "name": "python",
   "nbconvert_exporter": "python",
   "pygments_lexer": "ipython3",
   "version": "3.7.4"
  }
 },
 "nbformat": 4,
 "nbformat_minor": 4
}
